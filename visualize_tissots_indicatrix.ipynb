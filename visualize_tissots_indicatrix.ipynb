{
 "cells": [
  {
   "cell_type": "markdown",
   "metadata": {},
   "source": [
    "## Rudimentary Creation and Visualization of Tissot’s Indicatrix for Mercator and Cylindrical Equal Area Projection\n",
    "\n",
    "_Esmé Middaugh_\n",
    "_7 March, 2022_\n",
    "\n",
    "This script allows for the rudimentary visualization of Tissot's Indicatrix for a user defined area of the earth's surface. The original plan was for a script that would work with an input shapefile, but in the end this works at a more abstract level. For the script that works with an input shapefile and also gives an output shapefile, please see _Initial Tissot's Indicatrix Attempt_.\n",
    "\n",
    "The follow functions are included:\n",
    "\n",
    "create_graticules - Creates a grid in the latitude longitude space of intersecting meridians and parallels, spaced according to the given merdian and parallel spaces.\n",
    "plot_grid - plot the graticules\n",
    "obtain_indicatrix_axis - for a given grid and projection, return the vertical and horizontal axis of a indicatrix"
   ]
  },
  {
   "cell_type": "code",
   "execution_count": 76,
   "metadata": {
    "collapsed": true
   },
   "outputs": [],
   "source": [
    "import numpy as np\n",
    "import matplotlib.pyplot as plt\n",
    "from matplotlib.patches import Ellipse"
   ]
  },
  {
   "cell_type": "code",
   "execution_count": 78,
   "metadata": {
    "collapsed": false
   },
   "outputs": [],
   "source": [
    "def create_graticules(east_west = [-90,90], north_south=[-82.5, 82.5], meridian_space = 15.0, parallel_space = 15.0):\n",
    "    \"\"\"\n",
    "    Creates a grid in the latitude longitude space of intersecting meridians and parallels, spaced according to the given merdian and parallel spaces.\n",
    "    \n",
    "    \n",
    "    Parameters\n",
    "    ----------\n",
    "    east_west: list\n",
    "        Two item list that contains the west (-) and east bounds to be mapped. \n",
    "    north_south: list\n",
    "        Two item list that contains the south and north bounds to be mapped, defaults to <90 due to mapping. \n",
    "    meridian_space = float\n",
    "        The space between the meridian (vertical) grid lines, in degrees longitude. \n",
    "    \n",
    "    \n",
    "    Returns \n",
    "    -------\n",
    "    grid: list\n",
    "        A nested list containing all the meridians and parallels in the format [longitude, latitute]. Each line is a list, so the totlal format is [[[lambda, phi]]] A shortcut for testing purposes. \n",
    "    \n",
    "    \"\"\"\n",
    "    meridians = []\n",
    "    current_meridian = east_west[0]\n",
    "    while current_meridian < east_west[1]:\n",
    "        line = []\n",
    "        for paral in np.arange(north_south[0], north_south[1], parallel_space):\n",
    "            line.append([current_meridian, paral])\n",
    "        meridians.append(line)\n",
    "        current_meridian+=meridian_space\n",
    "    \n",
    "    parallels = []\n",
    "    current_parallel = north_south[0]\n",
    "    while current_parallel < north_south[1]:\n",
    "        line = []\n",
    "        for meridian in np.arange(east_west[0], east_west[1], meridian_space):\n",
    "            line.append([meridian, current_parallel])\n",
    "        parallels.append(line)\n",
    "        current_parallel+=parallel_space\n",
    "    \n",
    "    grid = meridians\n",
    "    grid.extend(parallels)\n",
    "    return grid\n"
   ]
  },
  {
   "cell_type": "code",
   "execution_count": 79,
   "metadata": {
    "collapsed": false
   },
   "outputs": [],
   "source": [
    "def plot_grid(grid, coord_format=\"x/y\"): \n",
    "    \"\"\"Helper function for graphing the graticules or x & y coordinate lines. If lat/lon map lat to y and lon to x \"\"\"\n",
    "    if coord_format==\"lat/lon\": \n",
    "        for line in grid:\n",
    "            plt.plot([point[1] for point in line], [point[0] for point in line])\n",
    "    elif coord_format==\"x/y\":\n",
    "        for line in grid:\n",
    "            plt.plot([point[0] for point in line], [point[1] for point in line])  \n",
    "    plt.show()"
   ]
  },
  {
   "cell_type": "code",
   "execution_count": 82,
   "metadata": {
    "collapsed": false
   },
   "outputs": [],
   "source": [
    "def secant(num):\n",
    "    \"\"\" Helper function to eturn secant value of number given in radians (numpy contains no secant).\"\"\"\n",
    "    sec_value = 1 / np.cos(num)\n",
    "    return sec_value"
   ]
  },
  {
   "cell_type": "code",
   "execution_count": 80,
   "metadata": {
    "collapsed": false
   },
   "outputs": [],
   "source": [
    "def mercator(phi_lat, lambda_lon, radius=6378137):\n",
    "    \"\"\"For a given point return the mercator projection x and y values at the given radius\"\"\"\n",
    "    r = radius\n",
    "    x = r * np.radians(lambda_lon) # assuming touching at equator \n",
    "    y = r * np.log(np.tan(np.pi / 4 + np.radians(phi_lat) / 2)) #https://kartoweb.itc.nl/geometrics/Map%20projections/body.htm\n",
    "    return x, y\n",
    "\n",
    "def cylindrical_equal_area(phi_lat, lambda_lon, radius=6378137): \n",
    "    \"\"\"For a given point return the mercator projection x and y values at the given radius\"\"\"\n",
    "    r = radius\n",
    "    x = r * np.radians(lambda_lon)\n",
    "    y = r * np.sin(np.radians(phi_lat))\n",
    "    return x, y"
   ]
  },
  {
   "cell_type": "code",
   "execution_count": 83,
   "metadata": {
    "collapsed": false
   },
   "outputs": [],
   "source": [
    "def transform_grid(grid, projection):\n",
    "    \"\"\" Helper function for demonstration purposes, take a grid and go through and apply a function to each point.\"\"\"\n",
    "    new_grid = []\n",
    "    for line in grid:\n",
    "        new_line = []\n",
    "        for point in line:\n",
    "            x, y = apply_projection(point[0], point[1], projection) \n",
    "            new_line.append([x,y])\n",
    "        new_grid.append(new_line)\n",
    "    return new_grid"
   ]
  },
  {
   "cell_type": "markdown",
   "metadata": {},
   "source": [
    "## Obtain Indicatrix Axis\n",
    "\n",
    "Taken from https://en.wikipedia.org/wiki/Mercator_projection#Mathematics\n",
    "The Mercator projection is determined by the requirement that the projection be conformal. One implication of this is the \"isotropy of scale factors\", which means that the point scale factor is independent of direction, so that small shapes are preserved by the projection. This implies that the vertical scale factor, h, equals the horizontal scale factor, k. Since k = sec φ, so must h.\n",
    "\n",
    "Mercator scale plot.svg\n",
    "The graph shows the variation of this scale factor with latitude. Some numerical values are listed below."
   ]
  },
  {
   "cell_type": "code",
   "execution_count": 100,
   "metadata": {
    "collapsed": false
   },
   "outputs": [],
   "source": [
    "def obtain_indicatrix_axis(point, projection):\n",
    "    \"\"\"\n",
    "    Obtain the axis of Tissot's Indicatrix at the given point as scale factors h (vertical) and k(horizontal). \n",
    "    \n",
    "    \n",
    "    Parameters:\n",
    "    ----------\n",
    "    Projection\n",
    "    point - an array composed of [lat, lon] with lat and lon in degrees ranging from -90 to 90 for latitude and -180 to 180 for longitdue\n",
    "    \n",
    "    \n",
    "    Parameters\n",
    "    ----------\n",
    "    point: list\n",
    "        A two item list in the format [longitude, latitude]\n",
    "        \n",
    "    projection: function\n",
    "        The name of a projection function, currently one of one mercator or lambert equal area. \n",
    "    \n",
    "    \n",
    "    Returns\n",
    "    ----------\n",
    "        sf_h - scale factor in the vertical , sized to match the projection\n",
    "        sf_k - scale factor in the horizontal, sized to match the projection \n",
    "    \"\"\"\n",
    "    lat = point[1]\n",
    "    lon = point[0]\n",
    "    \n",
    "    x, y = projection(lat, lon)\n",
    "    \n",
    "#     # This is where I couldn't get the derivatives to work \n",
    "#     h = 10**(-5.2) \n",
    "#     x0, y0 = projection(lat - h/2, lon)\n",
    "#     x1, y1 = projection(lat + h/2, lon)\n",
    "#     x2, y2 = projection(lat, lon - h/2)\n",
    "#     x3, y3 = projection(lat, lon + h/2)\n",
    "    \n",
    "#     # Partial derivatives with respect to phi(lat) and lambda (lon)\n",
    "#     dx_phi = (x1 - x0) / h \n",
    "#     dy_phi = (y1 - y0) / h\n",
    "#     dx_lambda = (x3 - x2) / h\n",
    "#     dy_lambda = (y3 - y2) / h\n",
    "\n",
    "#     R = 6378137 # for now using world radius of WGS84 https://en.wikipedia.org/wiki/World_Geodetic_System#:~:text=The%20WGS%2084%20datum%20surface,%3D%201%2F298.257223563.\n",
    "    \n",
    "#     # General 24, 4-10\n",
    "#     sf_h = (1/R) * np.sqrt(( np.square((dx_phi)) + np.square((dy_phi)) ))\n",
    "#     sf_k =  (1/R * np.cos(np.radians(lat))) * ((dx_lambda)**2 + (dy_lambda)**2)**1/2\n",
    "\n",
    "    \n",
    "#     # Cylindrical - page 21, 4-2\n",
    "#     sf_h = dy_phi  * 1/R \n",
    "#     sf_k =  dx_lambda * (1/ R * np.cos(lat)) # lat = phi\n",
    "    \n",
    "#     # Where I would also need to expand with equation for the angle of distortion\n",
    "    \n",
    "    if projection == mercator: \n",
    "        sf_h = secant(np.radians(lat))\n",
    "        sf_k = sf_h \n",
    "    \n",
    "    if projection == cylindrical_equal_area: \n",
    "        sf_h = np.cos(np.radians(lat))\n",
    "        sf_k = 1 / sf_h\n",
    "    \n",
    "    return sf_h, sf_k"
   ]
  },
  {
   "cell_type": "code",
   "execution_count": 101,
   "metadata": {
    "collapsed": false
   },
   "outputs": [],
   "source": []
  },
  {
   "cell_type": "code",
   "execution_count": 130,
   "metadata": {
    "collapsed": false
   },
   "outputs": [],
   "source": [
    "def plot_tissots_indicatrix(grid, projection): \n",
    "    \"\"\" For a given grid of meridians and parallels and a projection (currenlty only one of 'mercator' or 'cylindrical_equal_area', create an indicatrix plot with indicatrices scaled to approximately 6% of the graph size.\"\"\"\n",
    "    \n",
    "    plt.clf() # Clear plot\n",
    "    \n",
    "    fig, ax = plt.subplots(subplot_kw={'aspect': 'equal'}) # create base graph \n",
    "    fig.set_size_inches(10.5, 10.5) # resize \n",
    "\n",
    "\n",
    "    R = 6378137 # approx radius of earth\n",
    "    scale = R * .06\n",
    "\n",
    "    for line in grid:\n",
    "        for point in line: \n",
    "            x,y = apply_projection(point[1], point[0], projection)\n",
    "            scale_y, scale_x = obtain_indicatrix_axis(point, projection)\n",
    "            ellipse = Ellipse((x, y), scale_x * scale, scale_y *scale, alpha=.5)\n",
    "            ax.add_artist(ellipse)\n",
    "\n",
    "    transformed_grid = transform_grid(grid, projection)\n",
    "    \n",
    "    def calculate_graph_bounds(grid): \n",
    "        \"\"\" Helper function to ensure that the created TI show up on the graph when using Ellipse and add_artist.\"\"\"\n",
    "        min_x = 0 \n",
    "        max_x = 0 \n",
    "        min_y = 0 \n",
    "        max_y = 0 \n",
    "        for line in grid:\n",
    "            for point in line:\n",
    "                if point[0] < min_x:\n",
    "                    min_x = point[0]\n",
    "                elif point[0] > max_x:\n",
    "                    max_x = point[0]\n",
    "                if point[1] < min_y:\n",
    "                    min_y = point[1]\n",
    "                elif point[1] > max_y:\n",
    "                    max_y = point[1]\n",
    "        return min_x, max_x, min_y, max_y\n",
    "    \n",
    "    min_x, max_x, min_y, max_y = calculate_graph_bounds(transformed_grid)\n",
    "    ax.set_xlim(min_x , max_x)\n",
    "    ax.set_ylim(min_y, max_y)\n",
    "    plt.axis('off')\n",
    "    plt.show()"
   ]
  },
  {
   "cell_type": "markdown",
   "metadata": {},
   "source": [
    "## Demo\n",
    "\n",
    "Below are small examples of how this script could be called to visualize Tissot's Indicatrix at different user define map levels."
   ]
  },
  {
   "cell_type": "code",
   "execution_count": 131,
   "metadata": {
    "collapsed": false
   },
   "outputs": [
    {
     "data": {
      "image/png": "[encoded data removed]",
      "text/plain": [
       "<Figure size 432x288 with 1 Axes>"
      ]
     },
     "metadata": {
      "needs_background": "light"
     },
     "output_type": "display_data"
    }
   ],
   "source": [
    "grid = create_graticules(east_west=[-160, 120], north_south=[-50, 50], meridian_space=15, parallel_space = 10.0)\n",
    "plot_grid(grid)"
   ]
  },
  {
   "cell_type": "code",
   "execution_count": 132,
   "metadata": {
    "collapsed": false
   },
   "outputs": [
    {
     "data": {
      "image/png": "[encoded data removed]",
      "text/plain": [
       "<Figure size 432x288 with 1 Axes>"
      ]
     },
     "metadata": {
      "needs_background": "light"
     },
     "output_type": "display_data"
    }
   ],
   "source": [
    "transformed_grid = transform_grid(grid, mercator)\n",
    "plot_grid(transformed_grid)"
   ]
  },
  {
   "cell_type": "code",
   "execution_count": 133,
   "metadata": {
    "collapsed": false
   },
   "outputs": [
    {
     "data": {
      "image/png": "[encoded data removed]",
      "text/plain": [
       "<Figure size 432x288 with 1 Axes>"
      ]
     },
     "metadata": {
      "needs_background": "light"
     },
     "output_type": "display_data"
    }
   ],
   "source": [
    "transformed_grid = transform_grid(grid, cylindrical_equal_area)\n",
    "plot_grid(transformed_grid)"
   ]
  },
  {
   "cell_type": "code",
   "execution_count": 134,
   "metadata": {
    "collapsed": false
   },
   "outputs": [
    {
     "data": {
      "text/plain": [
       "<Figure size 432x288 with 0 Axes>"
      ]
     },
     "metadata": {},
     "output_type": "display_data"
    },
    {
     "data": {
      "image/png": "[encoded data removed]",
      "text/plain": [
       "<Figure size 756x756 with 1 Axes>"
      ]
     },
     "metadata": {
      "needs_background": "light"
     },
     "output_type": "display_data"
    }
   ],
   "source": [
    "plot_tissots_indicatrix(grid, mercator)"
   ]
  },
  {
   "cell_type": "code",
   "execution_count": 122,
   "metadata": {
    "collapsed": false
   },
   "outputs": [
    {
     "data": {
      "text/plain": [
       "<Figure size 432x288 with 0 Axes>"
      ]
     },
     "metadata": {},
     "output_type": "display_data"
    },
    {
     "data": {
      "image/png": "[encoded data removed]",
      "text/plain": [
       "<Figure size 432x288 with 1 Axes>"
      ]
     },
     "metadata": {
      "needs_background": "light"
     },
     "output_type": "display_data"
    }
   ],
   "source": [
    "plot_tissots_indicatrix(grid, cylindrical_equal_area)"
   ]
  }
 ],
 "metadata": {
  "kernelspec": {
   "display_name": "ti",
   "language": "python",
   "name": "ti"
  },
  "language_info": {
   "codemirror_mode": {
    "name": "ipython",
    "version": 3
   },
   "file_extension": ".py",
   "mimetype": "text/x-python",
   "name": "python",
   "nbconvert_exporter": "python",
   "pygments_lexer": "ipython3",
   "version": "3.10.2"
  }
 },
 "nbformat": 4,
 "nbformat_minor": 2
}
